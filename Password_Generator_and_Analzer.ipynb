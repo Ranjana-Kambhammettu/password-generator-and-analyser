{
  "cells": [
    {
      "cell_type": "markdown",
      "metadata": {
        "id": "view-in-github",
        "colab_type": "text"
      },
      "source": [
        "<a href=\"https://colab.research.google.com/github/Ranjana-Kambhammettu/password-generator-and-analyser/blob/main/Password_Generator_and_Analzer.ipynb\" target=\"_parent\"><img src=\"https://colab.research.google.com/assets/colab-badge.svg\" alt=\"Open In Colab\"/></a>"
      ]
    },
    {
      "cell_type": "markdown",
      "id": "2c9f21df",
      "metadata": {
        "id": "2c9f21df"
      },
      "source": [
        "Collecting Common Passwords and storing them in a csv file"
      ]
    },
    {
      "cell_type": "code",
      "source": [
        "from google.colab import drive\n",
        "drive.mount(\"/content/drive\")"
      ],
      "metadata": {
        "colab": {
          "base_uri": "https://localhost:8080/"
        },
        "id": "fqynN_rHd5bt",
        "outputId": "0d568297-57f8-4b67-f14d-8d9b46e1a031"
      },
      "id": "fqynN_rHd5bt",
      "execution_count": null,
      "outputs": [
        {
          "output_type": "stream",
          "name": "stdout",
          "text": [
            "Mounted at /content/drive\n"
          ]
        }
      ]
    },
    {
      "cell_type": "code",
      "source": [
        "import os\n",
        "os.chdir(\"/content/drive/\")\n",
        "!ls"
      ],
      "metadata": {
        "colab": {
          "base_uri": "https://localhost:8080/"
        },
        "id": "-DQCa-wQiHDq",
        "outputId": "c78300c6-803d-4634-eb85-1e746cdb06d2"
      },
      "id": "-DQCa-wQiHDq",
      "execution_count": null,
      "outputs": [
        {
          "output_type": "stream",
          "name": "stdout",
          "text": [
            "MyDrive\n"
          ]
        }
      ]
    },
    {
      "cell_type": "code",
      "source": [
        "import os\n",
        "os.chdir(\"/content/drive/My Drive/Password Generator and Analyzer\")\n",
        "!ls"
      ],
      "metadata": {
        "colab": {
          "base_uri": "https://localhost:8080/"
        },
        "id": "BCASvxN1iPlj",
        "outputId": "6e9a4e88-580b-4d6e-e23b-9e27fc13f2b2"
      },
      "id": "BCASvxN1iPlj",
      "execution_count": null,
      "outputs": [
        {
          "output_type": "stream",
          "name": "stdout",
          "text": [
            " common_passwords.csv  'Password Generator and Analzer.ipynb'\n",
            "'Leaked Database'\n"
          ]
        }
      ]
    },
    {
      "cell_type": "code",
      "execution_count": null,
      "id": "ac61f1be",
      "metadata": {
        "id": "ac61f1be"
      },
      "outputs": [],
      "source": [
        "from bs4 import BeautifulSoup\n",
        "import requests\n",
        "import pandas as pd"
      ]
    },
    {
      "cell_type": "code",
      "execution_count": null,
      "id": "9d0e85b6",
      "metadata": {
        "id": "9d0e85b6"
      },
      "outputs": [],
      "source": [
        "# Scraping Website 1\n",
        "url1 = \"https://en.wikipedia.org/wiki/Wikipedia:10,000_most_common_passwords\"\n",
        "webdata  = requests.get(url1).text\n",
        "soup = BeautifulSoup(webdata,\"html.parser\")\n",
        "cols = soup.find_all('div',class_='div-col')\n",
        "data = {\"Common Passwords\":[]}\n",
        "for col in cols:\n",
        "    passwds=col.find_all('li')\n",
        "    for passwd in passwds:\n",
        "        if passwd.text.strip()!='':\n",
        "            data[\"Common Passwords\"].append(passwd.text)\n",
        "#Scraping Website 2\n",
        "url2 = 'https://github.com/OWASP/passfault/blob/master/wordlists/wordlists/10k-worst-passwords.txt'\n",
        "webdata  = requests.get(url2).text\n",
        "soup = BeautifulSoup(webdata,\"html.parser\")\n",
        "passwds = soup.find_all('td',class_=\"blob-code blob-code-inner js-file-line\")\n",
        "for passwd in passwds:\n",
        "    data[\"Common Passwords\"].append(passwd.text)\n",
        "    \n",
        "\n",
        "#Writing all unique passwrods into a csv file    \n",
        "common_password = pd.DataFrame.from_dict(data)\n",
        "common_password = common_password.drop_duplicates(subset='Common Passwords', keep=\"first\")\n",
        "common_password = common_password.reset_index(drop=True)\n",
        "common_password.to_csv('common_passwords.csv')"
      ]
    },
    {
      "cell_type": "markdown",
      "id": "5da0db28",
      "metadata": {
        "id": "5da0db28"
      },
      "source": [
        "Making Trie Class"
      ]
    },
    {
      "cell_type": "code",
      "execution_count": null,
      "id": "334173e0",
      "metadata": {
        "id": "334173e0"
      },
      "outputs": [],
      "source": [
        "class TrieNode:\n",
        "    def __init__(self):\n",
        "        self.children={}\n",
        "        self.endOfWord = False\n",
        "class Trie:\n",
        "    def __init__(self):\n",
        "        self.root = TrieNode()\n",
        "    def insert(self,word):\n",
        "        cur = self.root\n",
        "        for c in word:\n",
        "            if c not in cur.children:\n",
        "                cur.children[c] = TrieNode()\n",
        "            cur=cur.children[c]\n",
        "        cur.endOfWord = True\n",
        "    def search(self,word):\n",
        "        cur = self.root\n",
        "        for c in word:\n",
        "            if c not in cur.children:\n",
        "                return False\n",
        "            cur = cur.children[c]\n",
        "        return cur.endOfWord"
      ]
    },
    {
      "cell_type": "raw",
      "id": "c65ba91c",
      "metadata": {
        "id": "c65ba91c"
      },
      "source": [
        "Opening Leaked Database Folder and adding passwords in each text file to Trie"
      ]
    },
    {
      "cell_type": "code",
      "execution_count": null,
      "id": "58ed76cc",
      "metadata": {
        "id": "58ed76cc"
      },
      "outputs": [],
      "source": [
        "breached_passwds=Trie()\n",
        "import os\n",
        "l=os.getcwd()+\"/Leaked Database\"\n",
        "a=os.listdir(l)\n",
        "for i in a:\n",
        "    p=l+\"/\"+i\n",
        "    file = open(p, 'r',errors='ignore')\n",
        "    for j in file:\n",
        "        breached_passwds.insert(j)\n",
        "\n"
      ]
    }
  ],
  "metadata": {
    "kernelspec": {
      "display_name": "Python 3 (ipykernel)",
      "language": "python",
      "name": "python3"
    },
    "language_info": {
      "codemirror_mode": {
        "name": "ipython",
        "version": 3
      },
      "file_extension": ".py",
      "mimetype": "text/x-python",
      "name": "python",
      "nbconvert_exporter": "python",
      "pygments_lexer": "ipython3",
      "version": "3.9.7"
    },
    "colab": {
      "provenance": [],
      "include_colab_link": true
    }
  },
  "nbformat": 4,
  "nbformat_minor": 5
}