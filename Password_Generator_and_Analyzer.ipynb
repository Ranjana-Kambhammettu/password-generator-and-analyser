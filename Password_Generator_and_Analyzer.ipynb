{
  "cells": [
    {
      "cell_type": "markdown",
      "metadata": {
        "id": "view-in-github",
        "colab_type": "text"
      },
      "source": [
        "<a href=\"https://colab.research.google.com/github/Ranjana-Kambhammettu/password-generator-and-analyser/blob/main/Password_Generator_and_Analyzer.ipynb\" target=\"_parent\"><img src=\"https://colab.research.google.com/assets/colab-badge.svg\" alt=\"Open In Colab\"/></a>"
      ]
    },
    {
      "cell_type": "markdown",
      "id": "2c9f21df",
      "metadata": {
        "id": "2c9f21df"
      },
      "source": [
        "Collecting Common Passwords and storing them in a csv file"
      ]
    },
    {
      "cell_type": "code",
      "source": [
        "from google.colab import drive\n",
        "drive.mount(\"/content/drive\")"
      ],
      "metadata": {
        "colab": {
          "base_uri": "https://localhost:8080/"
        },
        "id": "fqynN_rHd5bt",
        "outputId": "0d568297-57f8-4b67-f14d-8d9b46e1a031"
      },
      "id": "fqynN_rHd5bt",
      "execution_count": null,
      "outputs": [
        {
          "output_type": "stream",
          "name": "stdout",
          "text": [
            "Mounted at /content/drive\n"
          ]
        }
      ]
    },
    {
      "cell_type": "code",
      "source": [
        "import os\n",
        "os.chdir(\"/content/drive/\")\n",
        "!ls"
      ],
      "metadata": {
        "colab": {
          "base_uri": "https://localhost:8080/"
        },
        "id": "-DQCa-wQiHDq",
        "outputId": "c78300c6-803d-4634-eb85-1e746cdb06d2"
      },
      "id": "-DQCa-wQiHDq",
      "execution_count": null,
      "outputs": [
        {
          "output_type": "stream",
          "name": "stdout",
          "text": [
            "MyDrive\n"
          ]
        }
      ]
    },
    {
      "cell_type": "code",
      "source": [
        "import os\n",
        "os.chdir(\"/content/drive/My Drive/Password Generator and Analyzer\")\n",
        "!ls"
      ],
      "metadata": {
        "colab": {
          "base_uri": "https://localhost:8080/"
        },
        "id": "BCASvxN1iPlj",
        "outputId": "6e9a4e88-580b-4d6e-e23b-9e27fc13f2b2"
      },
      "id": "BCASvxN1iPlj",
      "execution_count": null,
      "outputs": [
        {
          "output_type": "stream",
          "name": "stdout",
          "text": [
            " common_passwords.csv  'Password Generator and Analzer.ipynb'\n",
            "'Leaked Database'\n"
          ]
        }
      ]
    },
    {
      "cell_type": "code",
      "execution_count": null,
      "id": "ac61f1be",
      "metadata": {
        "id": "ac61f1be"
      },
      "outputs": [],
      "source": [
        "from bs4 import BeautifulSoup\n",
        "import requests\n",
        "import pandas as pd"
      ]
    },
    {
      "cell_type": "code",
      "execution_count": null,
      "id": "9d0e85b6",
      "metadata": {
        "id": "9d0e85b6"
      },
      "outputs": [],
      "source": [
        "# Scraping Website 1\n",
        "url1 = \"https://en.wikipedia.org/wiki/Wikipedia:10,000_most_common_passwords\"\n",
        "webdata  = requests.get(url1).text\n",
        "soup = BeautifulSoup(webdata,\"html.parser\")\n",
        "cols = soup.find_all('div',class_='div-col')\n",
        "data = {\"Common Passwords\":[]}\n",
        "for col in cols:\n",
        "    passwds=col.find_all('li')\n",
        "    for passwd in passwds:\n",
        "        if passwd.text.strip()!='':\n",
        "            data[\"Common Passwords\"].append(passwd.text)\n",
        "#Scraping Website 2\n",
        "url2 = 'https://github.com/OWASP/passfault/blob/master/wordlists/wordlists/10k-worst-passwords.txt'\n",
        "webdata  = requests.get(url2).text\n",
        "soup = BeautifulSoup(webdata,\"html.parser\")\n",
        "passwds = soup.find_all('td',class_=\"blob-code blob-code-inner js-file-line\")\n",
        "for passwd in passwds:\n",
        "    data[\"Common Passwords\"].append(passwd.text)\n",
        "    \n",
        "\n",
        "#Writing all unique passwrods into a csv file    \n",
        "common_password = pd.DataFrame.from_dict(data)\n",
        "common_password = common_password.drop_duplicates(subset='Common Passwords', keep=\"first\")\n",
        "common_password = common_password.reset_index(drop=True)\n",
        "common_password.to_csv('common_passwords.csv')"
      ]
    },
    {
      "cell_type": "markdown",
      "id": "5da0db28",
      "metadata": {
        "id": "5da0db28"
      },
      "source": [
        "Making Trie Class"
      ]
    },
    {
      "cell_type": "code",
      "execution_count": null,
      "id": "334173e0",
      "metadata": {
        "id": "334173e0"
      },
      "outputs": [],
      "source": [
        "class TrieNode:\n",
        "    def __init__(self):\n",
        "        self.children={}\n",
        "        self.endOfWord = False\n",
        "class Trie:\n",
        "    def __init__(self):\n",
        "        self.root = TrieNode()\n",
        "    def insert(self,word):\n",
        "        cur = self.root\n",
        "        for c in word:\n",
        "            if c not in cur.children:\n",
        "                cur.children[c] = TrieNode()\n",
        "            cur=cur.children[c]\n",
        "        cur.endOfWord = True\n",
        "    def search(self,word):\n",
        "        cur = self.root\n",
        "        for c in word:\n",
        "            if c not in cur.children:\n",
        "                return False\n",
        "            cur = cur.children[c]\n",
        "        return cur.endOfWord"
      ]
    },
    {
      "cell_type": "raw",
      "id": "c65ba91c",
      "metadata": {
        "id": "c65ba91c"
      },
      "source": [
        "Opening Leaked Database Folder and adding passwords in each text file to Trie"
      ]
    },
    {
      "cell_type": "code",
      "execution_count": null,
      "id": "58ed76cc",
      "metadata": {
        "id": "58ed76cc"
      },
      "outputs": [],
      "source": [
        "breached_passwds=Trie()\n",
        "import os\n",
        "l=os.getcwd()+\"/Leaked Database\"\n",
        "a=os.listdir(l)\n",
        "for i in a:\n",
        "    p=l+\"/\"+i\n",
        "    file = open(p, 'r',errors='ignore')\n",
        "    for j in file:\n",
        "        breached_passwds.insert(j)\n",
        "\n"
      ]
    },
    {
      "cell_type": "code",
      "source": [
        "#Implementing Algorithm\n",
        "import random\n",
        "words = input(\"Enter five words(give space between each word): \").split()\n",
        "numbers = input(\"Enter two numbers(give space between each number): \").split()\n",
        "num_passwords = int(input(\"Enter number of passwords required:\"))\n",
        "special_chars = ['@','$','!','#','%','&','(',')','0','3','8','<','|']\n",
        "punc = ['@','*','+','-',':','”','/','\\\\','~' ,'?','[',']','{' ,'}','$','!','#','%','&','(',')','_' ,'<','|']\n",
        "alphabets = ['a', 's', 'i', 'r', 'x', 'q', 'c', 'j', 'o', 'e', 'b', 'k', 'l']\n",
        "c2s = {}\n",
        "for i in range(13):\n",
        "  c2s[alphabets[i]]=special_chars[i]\n",
        "def randomly_capitalize(s):\n",
        "  result = ''\n",
        "  for char in s:\n",
        "      flag = random.randint(0, 1)\n",
        "      if flag == 0:\n",
        "          result += char.upper()\n",
        "      else:\n",
        "          result += char.lower()\n",
        "  return result\n",
        "def merge_randomly(str1,str2):\n",
        "  result = ''\n",
        "  flag = random.randint(0, 1)\n",
        "  if flag == 0:\n",
        "      result = str1 + str2\n",
        "  else:\n",
        "      result = str2 + str1\n",
        "  return result,flag\n",
        "def charToSpecial(s):\n",
        "  for char in s:\n",
        "    if char in c2s:\n",
        "      s = s.replace(char,c2s[char])\n",
        "  return s\n",
        "def insert_number(s,n,f,str1,str2):\n",
        "  flag = random.randint(0, 2)\n",
        "  if flag == 0:\n",
        "    return n+s\n",
        "  elif flag == 2:\n",
        "    return s+n\n",
        "  else:\n",
        "    if f==0:\n",
        "      return s[:len(str1)]+n+s[len(str1):]\n",
        "    else:\n",
        "      return s[:len(str2)]+n+s[len(str2):]\n",
        "def add_punctuation(s):\n",
        "  return s+random.choice(punc)\n",
        "while num_passwords>0:\n",
        "  temp = list(words)\n",
        "  string1 = random.choice(temp)\n",
        "  temp.remove(string1)\n",
        "  string2 = random.choice(temp)\n",
        "  number = random.choice(numbers)\n",
        "  string1,string2 = randomly_capitalize(string1),randomly_capitalize(string2)\n",
        "  final_string,f = merge_randomly(string1,string2)\n",
        "  final_string = charToSpecial(final_string)\n",
        "  final_string = insert_number(final_string,number,f,string1,string2)\n",
        "  final_string = add_punctuation(final_string)\n",
        "  C = len(final_string)\n",
        "  if C < 8:\n",
        "    for i in range(8 - C):\n",
        "      final_string += random.choice(special_chars)\n",
        "  print(\"Final Passowrd:\",final_string)\n",
        "  num_passwords -= 1\n",
        "  "
      ],
      "metadata": {
        "colab": {
          "base_uri": "https://localhost:8080/"
        },
        "id": "It4NOci7B8pT",
        "outputId": "95501f05-cc3c-43ac-94b9-3f94bc3a5f8a"
      },
      "id": "It4NOci7B8pT",
      "execution_count": null,
      "outputs": [
        {
          "output_type": "stream",
          "name": "stdout",
          "text": [
            "Enter five words(give space between each word): lebron dhoni sachin kyrie damian\n",
            "Enter two numbers(give space between each number): 44 88\n",
            "Enter number of passwords required:5\n",
            "Final Passowrd: dhONILEBR0n44”\n",
            "Final Passowrd: d@mI@n44L38RON+\n",
            "Final Passowrd: 88S@(hInDH0N!?\n",
            "Final Passowrd: $@Ch!N88DH0NI:\n",
            "Final Passowrd: |E8#OndHOn!88?\n"
          ]
        }
      ]
    }
  ],
  "metadata": {
    "kernelspec": {
      "display_name": "Python 3 (ipykernel)",
      "language": "python",
      "name": "python3"
    },
    "language_info": {
      "codemirror_mode": {
        "name": "ipython",
        "version": 3
      },
      "file_extension": ".py",
      "mimetype": "text/x-python",
      "name": "python",
      "nbconvert_exporter": "python",
      "pygments_lexer": "ipython3",
      "version": "3.9.7"
    },
    "colab": {
      "provenance": [],
      "include_colab_link": true
    }
  },
  "nbformat": 4,
  "nbformat_minor": 5
}